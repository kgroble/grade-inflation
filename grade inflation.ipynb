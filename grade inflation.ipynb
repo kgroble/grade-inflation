{
 "cells": [
  {
   "cell_type": "code",
   "execution_count": 27,
   "metadata": {
    "collapsed": true
   },
   "outputs": [],
   "source": [
    "import numpy as np"
   ]
  },
  {
   "cell_type": "code",
   "execution_count": 35,
   "metadata": {
    "collapsed": true
   },
   "outputs": [],
   "source": [
    "# Total number of classes offered\n",
    "N_CLASSES = 50\n",
    "# Number of classes in which each student enrolls\n",
    "N_CLASSES_PER_STUDENT = 30\n",
    "# Total number of students\n",
    "N_STUDENTS = 200"
   ]
  },
  {
   "cell_type": "code",
   "execution_count": 36,
   "metadata": {
    "collapsed": true
   },
   "outputs": [],
   "source": [
    "# Randomly select which classes each student will take.\n",
    "enrollment = []\n",
    "for i in range(N_STUDENTS):\n",
    "    enrollment += [np.array(list(map(lambda x: int(x),\n",
    "                                     sorted(np.linspace(0, N_CLASSES - 1, N_CLASSES),\n",
    "                                            key = lambda _ : np.random.random()))))[0:N_CLASSES_PER_STUDENT]]"
   ]
  },
  {
   "cell_type": "code",
   "execution_count": 37,
   "metadata": {
    "collapsed": true
   },
   "outputs": [],
   "source": [
    "# generate a tendency for each class to be easy or difficult\n",
    "# 0 baseline; negative indicates a \"hard\" class, positive an \"easy\" class\n",
    "class_difficulties = np.random.normal(0, 5, (N_CLASSES, 1))"
   ]
  },
  {
   "cell_type": "code",
   "execution_count": 38,
   "metadata": {
    "collapsed": true
   },
   "outputs": [],
   "source": [
    "# generate a tendency for each student to be high performing or low performing\n",
    "student_means = 100 - np.random.lognormal(np.log(6), np.log(2.5), (N_STUDENTS, 1))\n",
    "grades = np.zeros((N_CLASSES, N_STUDENTS))\n",
    "for i in range(N_STUDENTS):\n",
    "    student_grades = np.random.normal(student_means[i], 3, (N_CLASSES_PER_STUDENT, 1))\n",
    "    curr = 0\n",
    "    for j in range(N_CLASSES):\n",
    "        if j in enrollment[i]:\n",
    "            # generate a grade from a normal distribution centered around the student's tendency,\n",
    "            # offset by a value chosen from a normal distribution centered around the class' difficulty\n",
    "            grades[j][i] = student_grades[curr] + np.random.normal(class_difficulties[0], 3)\n",
    "            curr += 1\n",
    "        else:\n",
    "            grades[j][i] = None"
   ]
  },
  {
   "cell_type": "code",
   "execution_count": 39,
   "metadata": {
    "collapsed": true
   },
   "outputs": [],
   "source": [
    "# breaks = [60, 63, 67, 70, 73, 77, 80, 83, 87, 90, 93, 97]\n",
    "breaks = [60, 70, 80, 90]\n",
    "def letter(num):\n",
    "    if np.isnan(num):\n",
    "        return None\n",
    "    for i in range(len(breaks)):\n",
    "        if num < breaks[i]:\n",
    "            return i\n",
    "    return len(breaks)"
   ]
  },
  {
   "cell_type": "code",
   "execution_count": 40,
   "metadata": {
    "collapsed": true
   },
   "outputs": [],
   "source": [
    "# translate students' numerical grades into letter grades\n",
    "letters = np.zeros((N_CLASSES, N_STUDENTS))\n",
    "for i in range(len(letters)):\n",
    "    for j in range(len(letters[i])):\n",
    "        letters[i][j] = letter(grades[i][j])"
   ]
  },
  {
   "cell_type": "code",
   "execution_count": 41,
   "metadata": {
    "collapsed": true
   },
   "outputs": [],
   "source": [
    "# find the mean grade in each class\n",
    "means = np.zeros((N_CLASSES, 1))\n",
    "for i in range(len(means)):\n",
    "    total = 0\n",
    "    n = 0\n",
    "    for j in range(len(letters[i])):\n",
    "        if not(np.isnan(letters[i][j])):\n",
    "            total += letters[i][j]\n",
    "            n += 1\n",
    "    means[i] = total/n"
   ]
  },
  {
   "cell_type": "code",
   "execution_count": 42,
   "metadata": {
    "collapsed": true
   },
   "outputs": [],
   "source": [
    "# each student gets a \"score\" of their grade minus the mean grade\n",
    "# in each class they took\n",
    "points = np.zeros((N_CLASSES, N_STUDENTS))\n",
    "for i in range(len(points)):\n",
    "    for j in range(len(points[i])):\n",
    "        if np.isnan(letters[i,j]):\n",
    "            points[i,j] = None\n",
    "        else:\n",
    "            points[i,j] = (letters[i,j] - means[i])"
   ]
  },
  {
   "cell_type": "code",
   "execution_count": 43,
   "metadata": {
    "collapsed": true
   },
   "outputs": [],
   "source": [
    "# rank students by the mean of their score differentials (higher is better),\n",
    "# breaking ties with standard deviation (lower is better)\n",
    "ranking = []\n",
    "for i in range(N_STUDENTS):\n",
    "    valid_scores = []\n",
    "    for j in range(N_CLASSES):\n",
    "        if not(np.isnan(points[j,i])):\n",
    "            valid_scores += [points[j, i]]\n",
    "    valid_scores = np.array(valid_scores)\n",
    "    ranking += [(i, valid_scores.mean(), valid_scores.std())]"
   ]
  },
  {
   "cell_type": "code",
   "execution_count": 44,
   "metadata": {},
   "outputs": [],
   "source": [
    "N_DECILE = int(N_STUDENTS/10)\n",
    "\n",
    "# top 10% (higher list index is better)\n",
    "top_10 = sorted(ranking, key = lambda x: (x[1], -1*x[2]))[-1*N_DECILE:]\n",
    "# second-best 10% (higher list index is better)\n",
    "next_10 = sorted(ranking, key = lambda x: (x[1], -1*x[2]))[-2*N_DECILE:-1*N_DECILE]"
   ]
  },
  {
   "cell_type": "code",
   "execution_count": null,
   "metadata": {
    "collapsed": true
   },
   "outputs": [],
   "source": []
  }
 ],
 "metadata": {
  "kernelspec": {
   "display_name": "Python 3",
   "language": "python",
   "name": "python3"
  },
  "language_info": {
   "codemirror_mode": {
    "name": "ipython",
    "version": 3
   },
   "file_extension": ".py",
   "mimetype": "text/x-python",
   "name": "python",
   "nbconvert_exporter": "python",
   "pygments_lexer": "ipython3",
   "version": "3.6.1"
  }
 },
 "nbformat": 4,
 "nbformat_minor": 2
}
