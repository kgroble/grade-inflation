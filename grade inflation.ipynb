{
 "cells": [
  {
   "cell_type": "code",
   "execution_count": 21,
   "metadata": {
    "collapsed": true
   },
   "outputs": [],
   "source": [
    "import numpy as np\n",
    "from scipy import stats\n",
    "N_CLASSES = 10\n",
    "N_STUDENTS = 100"
   ]
  },
  {
   "cell_type": "code",
   "execution_count": 16,
   "metadata": {
    "collapsed": true
   },
   "outputs": [],
   "source": [
    "grades = np.array(np.random.normal(92, 3, (N_CLASSES, N_STUDENTS)))"
   ]
  },
  {
   "cell_type": "code",
   "execution_count": 17,
   "metadata": {
    "collapsed": true
   },
   "outputs": [],
   "source": [
    "breaks = [60, 63, 67, 70, 73, 77, 80, 83, 87, 90, 93, 97]\n",
    "def letter(num):\n",
    "    for i in range(len(breaks)):\n",
    "        if num < breaks[i]:\n",
    "            return i\n",
    "    return len(breaks)"
   ]
  },
  {
   "cell_type": "code",
   "execution_count": 18,
   "metadata": {},
   "outputs": [],
   "source": [
    "letters = np.zeros((N_CLASSES, N_STUDENTS))\n",
    "for i in range(len(letters)):\n",
    "    for j in range(len(letters[i])):\n",
    "        letters[i][j] = letter(grades[i][j])"
   ]
  },
  {
   "cell_type": "code",
   "execution_count": 34,
   "metadata": {},
   "outputs": [],
   "source": [
    "modes = np.zeros((N_CLASSES, 1))\n",
    "for i in range(len(modes)):\n",
    "    modes[i] = stats.mode(letters[i], axis=None)[0][0]"
   ]
  },
  {
   "cell_type": "code",
   "execution_count": 40,
   "metadata": {},
   "outputs": [],
   "source": [
    "points = letters - (modes * (np.ones((1,N_STUDENTS))))"
   ]
  },
  {
   "cell_type": "code",
   "execution_count": 69,
   "metadata": {},
   "outputs": [],
   "source": [
    "scores = []\n",
    "for i in range(N_STUDENTS):\n",
    "    scores += [(i, points[:,i].mean())]"
   ]
  },
  {
   "cell_type": "code",
   "execution_count": 79,
   "metadata": {},
   "outputs": [
    {
     "data": {
      "text/plain": [
       "[(68, 0.20000000000000001),\n",
       " (6, 0.29999999999999999),\n",
       " (13, 0.29999999999999999),\n",
       " (28, 0.29999999999999999),\n",
       " (40, 0.29999999999999999),\n",
       " (79, 0.29999999999999999),\n",
       " (85, 0.29999999999999999),\n",
       " (54, 0.40000000000000002),\n",
       " (86, 0.5),\n",
       " (29, 0.59999999999999998)]"
      ]
     },
     "execution_count": 79,
     "metadata": {},
     "output_type": "execute_result"
    }
   ],
   "source": [
    "sorted(scores, key = lambda x: x[1])[-10:]"
   ]
  },
  {
   "cell_type": "code",
   "execution_count": 80,
   "metadata": {},
   "outputs": [
    {
     "data": {
      "text/plain": [
       "[(61, 0.10000000000000001),\n",
       " (65, 0.10000000000000001),\n",
       " (66, 0.10000000000000001),\n",
       " (74, 0.10000000000000001),\n",
       " (80, 0.10000000000000001),\n",
       " (90, 0.10000000000000001),\n",
       " (98, 0.10000000000000001),\n",
       " (99, 0.10000000000000001),\n",
       " (37, 0.20000000000000001),\n",
       " (62, 0.20000000000000001)]"
      ]
     },
     "execution_count": 80,
     "metadata": {},
     "output_type": "execute_result"
    }
   ],
   "source": [
    "sorted(scores, key = lambda x: x[1])[-20:-10]"
   ]
  },
  {
   "cell_type": "code",
   "execution_count": null,
   "metadata": {
    "collapsed": true
   },
   "outputs": [],
   "source": []
  }
 ],
 "metadata": {
  "kernelspec": {
   "display_name": "Python 3",
   "language": "python",
   "name": "python3"
  },
  "language_info": {
   "codemirror_mode": {
    "name": "ipython",
    "version": 3
   },
   "file_extension": ".py",
   "mimetype": "text/x-python",
   "name": "python",
   "nbconvert_exporter": "python",
   "pygments_lexer": "ipython3",
   "version": "3.6.1"
  }
 },
 "nbformat": 4,
 "nbformat_minor": 2
}
